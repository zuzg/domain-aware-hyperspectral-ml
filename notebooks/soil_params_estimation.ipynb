{
 "cells": [
  {
   "cell_type": "markdown",
   "metadata": {},
   "source": [
    "# Soil parameters estimation"
   ]
  },
  {
   "cell_type": "markdown",
   "metadata": {},
   "source": [
    "**Thoughts**\n",
    "\n",
    "mean values per each band per patch?\n",
    "\n",
    "pred from mean or mean of preds?\n",
    "\n",
    "test svm?"
   ]
  },
  {
   "cell_type": "code",
   "execution_count": 1,
   "metadata": {},
   "outputs": [],
   "source": [
    "import numpy as np\n",
    "import pandas as pd\n",
    "import torch\n",
    "from sklearn.metrics import mean_squared_error\n",
    "from sklearn.model_selection import train_test_split\n",
    "from sklearn.multioutput import MultiOutputRegressor\n",
    "from torch.utils.data import DataLoader\n",
    "from xgboost import XGBRegressor\n",
    "\n",
    "from src.consts import MAX_PATH\n",
    "from src.data.dataset import HyperviewDataset\n",
    "from src.models.modeller import Modeller"
   ]
  },
  {
   "cell_type": "markdown",
   "metadata": {},
   "source": [
    "## Read model and dataset"
   ]
  },
  {
   "cell_type": "code",
   "execution_count": 2,
   "metadata": {},
   "outputs": [],
   "source": [
    "IMG_SIZE = 10\n",
    "CHANNELS = 150\n",
    "K = 5\n",
    "NUM_PARAMS = 3\n",
    "MAX_VAL = 6000\n",
    "BATCH_SIZE = 8\n",
    "\n",
    "MODEL_PATH = \"output/modeller_var=GaussianRenderer_bias=Mean_k=5.pth\""
   ]
  },
  {
   "cell_type": "code",
   "execution_count": 3,
   "metadata": {},
   "outputs": [],
   "source": [
    "dir = \"data/hyperview/train_data/train_data\"\n",
    "gt_path = \"data/hyperview/train_data/train_gt.csv\""
   ]
  },
  {
   "cell_type": "code",
   "execution_count": 4,
   "metadata": {},
   "outputs": [
    {
     "data": {
      "text/plain": [
       "<All keys matched successfully>"
      ]
     },
     "execution_count": 4,
     "metadata": {},
     "output_type": "execute_result"
    }
   ],
   "source": [
    "model = Modeller(IMG_SIZE, CHANNELS, K, NUM_PARAMS)\n",
    "model.load_state_dict(torch.load(MODEL_PATH))"
   ]
  },
  {
   "cell_type": "code",
   "execution_count": 5,
   "metadata": {},
   "outputs": [],
   "source": [
    "with open(MAX_PATH, \"rb\") as f:\n",
    "    maxx = np.load(f)\n",
    "maxx[maxx > MAX_VAL] = MAX_VAL"
   ]
  },
  {
   "cell_type": "code",
   "execution_count": 6,
   "metadata": {},
   "outputs": [],
   "source": [
    "dataset = HyperviewDataset(dir, IMG_SIZE, MAX_VAL, 0, maxx)\n",
    "dataloader = DataLoader(dataset, batch_size=BATCH_SIZE, shuffle=False, drop_last=True)"
   ]
  },
  {
   "cell_type": "code",
   "execution_count": 7,
   "metadata": {},
   "outputs": [],
   "source": [
    "def prepare_datasets(dataloader: DataLoader) -> list[np.ndarray]:\n",
    "    imgs = []\n",
    "    preds = []\n",
    "    for data in dataloader:\n",
    "        imgs.append(data.detach().numpy())\n",
    "        pred = model(data)\n",
    "        preds.append(pred.detach().numpy())\n",
    "    return imgs, preds"
   ]
  },
  {
   "cell_type": "markdown",
   "metadata": {},
   "source": [
    "Features - mean per patch"
   ]
  },
  {
   "cell_type": "code",
   "execution_count": 8,
   "metadata": {},
   "outputs": [],
   "source": [
    "def aggregate_features(feature_list: list[np.ndarray], features_num: int, batch_size: int, img_size: int) -> np.ndarray:\n",
    "    features = np.array(feature_list)\n",
    "    features = features.reshape(features.shape[0] * batch_size, features_num, img_size, img_size)\n",
    "    features[features == 0] = np.nan\n",
    "    feature_means = np.nanmean(features, axis=(2, 3))\n",
    "    return feature_means"
   ]
  },
  {
   "cell_type": "code",
   "execution_count": 9,
   "metadata": {},
   "outputs": [],
   "source": [
    "imgs, preds = prepare_datasets(dataloader)\n",
    "pred_means = aggregate_features(preds, K * NUM_PARAMS, BATCH_SIZE, IMG_SIZE)\n",
    "img_means = aggregate_features(imgs, CHANNELS, BATCH_SIZE, IMG_SIZE)"
   ]
  },
  {
   "cell_type": "code",
   "execution_count": 10,
   "metadata": {},
   "outputs": [
    {
     "data": {
      "text/html": [
       "<div>\n",
       "<style scoped>\n",
       "    .dataframe tbody tr th:only-of-type {\n",
       "        vertical-align: middle;\n",
       "    }\n",
       "\n",
       "    .dataframe tbody tr th {\n",
       "        vertical-align: top;\n",
       "    }\n",
       "\n",
       "    .dataframe thead th {\n",
       "        text-align: right;\n",
       "    }\n",
       "</style>\n",
       "<table border=\"1\" class=\"dataframe\">\n",
       "  <thead>\n",
       "    <tr style=\"text-align: right;\">\n",
       "      <th></th>\n",
       "      <th>sample_index</th>\n",
       "      <th>P</th>\n",
       "      <th>K</th>\n",
       "      <th>Mg</th>\n",
       "      <th>pH</th>\n",
       "    </tr>\n",
       "  </thead>\n",
       "  <tbody>\n",
       "    <tr>\n",
       "      <th>0</th>\n",
       "      <td>0</td>\n",
       "      <td>45.1</td>\n",
       "      <td>188.0</td>\n",
       "      <td>179.0</td>\n",
       "      <td>7.2</td>\n",
       "    </tr>\n",
       "    <tr>\n",
       "      <th>1</th>\n",
       "      <td>1</td>\n",
       "      <td>44.8</td>\n",
       "      <td>205.0</td>\n",
       "      <td>188.0</td>\n",
       "      <td>7.0</td>\n",
       "    </tr>\n",
       "    <tr>\n",
       "      <th>2</th>\n",
       "      <td>2</td>\n",
       "      <td>44.4</td>\n",
       "      <td>207.0</td>\n",
       "      <td>145.0</td>\n",
       "      <td>6.8</td>\n",
       "    </tr>\n",
       "    <tr>\n",
       "      <th>3</th>\n",
       "      <td>3</td>\n",
       "      <td>46.5</td>\n",
       "      <td>204.0</td>\n",
       "      <td>143.0</td>\n",
       "      <td>6.8</td>\n",
       "    </tr>\n",
       "    <tr>\n",
       "      <th>4</th>\n",
       "      <td>4</td>\n",
       "      <td>52.0</td>\n",
       "      <td>212.0</td>\n",
       "      <td>167.0</td>\n",
       "      <td>6.7</td>\n",
       "    </tr>\n",
       "  </tbody>\n",
       "</table>\n",
       "</div>"
      ],
      "text/plain": [
       "   sample_index     P      K     Mg   pH\n",
       "0             0  45.1  188.0  179.0  7.2\n",
       "1             1  44.8  205.0  188.0  7.0\n",
       "2             2  44.4  207.0  145.0  6.8\n",
       "3             3  46.5  204.0  143.0  6.8\n",
       "4             4  52.0  212.0  167.0  6.7"
      ]
     },
     "execution_count": 10,
     "metadata": {},
     "output_type": "execute_result"
    }
   ],
   "source": [
    "gt = pd.read_csv(gt_path)\n",
    "gt.head()"
   ]
  },
  {
   "cell_type": "code",
   "execution_count": 11,
   "metadata": {},
   "outputs": [],
   "source": [
    "gt = gt[:img_means.shape[0]]\n",
    "gt = gt.drop([\"sample_index\"], axis=1)"
   ]
  },
  {
   "cell_type": "code",
   "execution_count": 15,
   "metadata": {},
   "outputs": [],
   "source": [
    "x_pred = pred_means\n",
    "x_img = img_means\n",
    "y = gt"
   ]
  },
  {
   "cell_type": "markdown",
   "metadata": {},
   "source": [
    "## Predictions using XGBoost"
   ]
  },
  {
   "cell_type": "code",
   "execution_count": 16,
   "metadata": {},
   "outputs": [],
   "source": [
    "def predict_params(x: np.ndarray, y: np.ndarray):\n",
    "    x_train, x_test, y_train, y_test = train_test_split(x, y, test_size=0.2, random_state=42)\n",
    "    model = MultiOutputRegressor(XGBRegressor(n_estimators=100, learning_rate=1e-3))\n",
    "    model.fit(x_train, y_train)\n",
    "    preds = model.predict(x_test)\n",
    "    mse = mean_squared_error(y_test, preds, multioutput=\"raw_values\")\n",
    "    return mse"
   ]
  },
  {
   "cell_type": "code",
   "execution_count": 22,
   "metadata": {},
   "outputs": [],
   "source": [
    "mse_img = predict_params(x_img, y)\n",
    "mse_pred = predict_params(x_pred, y)"
   ]
  },
  {
   "cell_type": "code",
   "execution_count": 26,
   "metadata": {},
   "outputs": [
    {
     "data": {
      "text/html": [
       "<div>\n",
       "<style scoped>\n",
       "    .dataframe tbody tr th:only-of-type {\n",
       "        vertical-align: middle;\n",
       "    }\n",
       "\n",
       "    .dataframe tbody tr th {\n",
       "        vertical-align: top;\n",
       "    }\n",
       "\n",
       "    .dataframe thead th {\n",
       "        text-align: right;\n",
       "    }\n",
       "</style>\n",
       "<table border=\"1\" class=\"dataframe\">\n",
       "  <thead>\n",
       "    <tr style=\"text-align: right;\">\n",
       "      <th></th>\n",
       "      <th>P</th>\n",
       "      <th>K</th>\n",
       "      <th>Mg</th>\n",
       "      <th>pH</th>\n",
       "    </tr>\n",
       "  </thead>\n",
       "  <tbody>\n",
       "    <tr>\n",
       "      <th>Original image</th>\n",
       "      <td>589.001784</td>\n",
       "      <td>3256.663636</td>\n",
       "      <td>1575.077108</td>\n",
       "      <td>0.064819</td>\n",
       "    </tr>\n",
       "    <tr>\n",
       "      <th>Modeller output</th>\n",
       "      <td>583.282931</td>\n",
       "      <td>3234.273224</td>\n",
       "      <td>1580.202594</td>\n",
       "      <td>0.065491</td>\n",
       "    </tr>\n",
       "  </tbody>\n",
       "</table>\n",
       "</div>"
      ],
      "text/plain": [
       "                          P            K           Mg        pH\n",
       "Original image   589.001784  3256.663636  1575.077108  0.064819\n",
       "Modeller output  583.282931  3234.273224  1580.202594  0.065491"
      ]
     },
     "execution_count": 26,
     "metadata": {},
     "output_type": "execute_result"
    }
   ],
   "source": [
    "results = pd.DataFrame(columns=gt.columns)\n",
    "results.loc[\"Original image\"] = mse_img\n",
    "results.loc[\"Modeller output\"] = mse_pred\n",
    "results"
   ]
  }
 ],
 "metadata": {
  "kernelspec": {
   "display_name": "geo-dl",
   "language": "python",
   "name": "python3"
  },
  "language_info": {
   "codemirror_mode": {
    "name": "ipython",
    "version": 3
   },
   "file_extension": ".py",
   "mimetype": "text/x-python",
   "name": "python",
   "nbconvert_exporter": "python",
   "pygments_lexer": "ipython3",
   "version": "3.10.13"
  }
 },
 "nbformat": 4,
 "nbformat_minor": 2
}
